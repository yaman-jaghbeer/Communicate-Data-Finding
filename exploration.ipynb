{
 "cells": [
  {
   "cell_type": "markdown",
   "metadata": {},
   "source": [
    "# (Loan Data from Prosper)\n",
    "## by (Yaman Al Jaghbir)\n",
    "\n",
    "## Preliminary Wrangling\n",
    "\n",
    "\"This data set contains 113,937 loans with 81 variables on each \n",
    "loan, including loan amount, borrower rate (or interest rate), \n",
    "current loan status, borrower income, and many others.\""
   ]
  },
  {
   "cell_type": "code",
   "execution_count": 1,
   "metadata": {},
   "outputs": [],
   "source": [
    "# import all packages and set plots to be embedded inline\n",
    "import numpy as np\n",
    "import pandas as pd\n",
    "import matplotlib.pyplot as plt\n",
    "import seaborn as sb\n",
    "\n",
    "%matplotlib inline"
   ]
  },
  {
   "cell_type": "markdown",
   "metadata": {},
   "source": [
    "> Load in your dataset and describe its properties through the questions below.\n",
    "Try and motivate your exploration goals through this section."
   ]
  },
  {
   "cell_type": "code",
   "execution_count": 2,
   "metadata": {},
   "outputs": [
    {
     "data": {
      "text/html": [
       "<div>\n",
       "<style scoped>\n",
       "    .dataframe tbody tr th:only-of-type {\n",
       "        vertical-align: middle;\n",
       "    }\n",
       "\n",
       "    .dataframe tbody tr th {\n",
       "        vertical-align: top;\n",
       "    }\n",
       "\n",
       "    .dataframe thead th {\n",
       "        text-align: right;\n",
       "    }\n",
       "</style>\n",
       "<table border=\"1\" class=\"dataframe\">\n",
       "  <thead>\n",
       "    <tr style=\"text-align: right;\">\n",
       "      <th></th>\n",
       "      <th>ListingKey</th>\n",
       "      <th>ListingNumber</th>\n",
       "      <th>ListingCreationDate</th>\n",
       "      <th>CreditGrade</th>\n",
       "      <th>Term</th>\n",
       "      <th>LoanStatus</th>\n",
       "      <th>ClosedDate</th>\n",
       "      <th>BorrowerAPR</th>\n",
       "      <th>BorrowerRate</th>\n",
       "      <th>LenderYield</th>\n",
       "      <th>...</th>\n",
       "      <th>LP_ServiceFees</th>\n",
       "      <th>LP_CollectionFees</th>\n",
       "      <th>LP_GrossPrincipalLoss</th>\n",
       "      <th>LP_NetPrincipalLoss</th>\n",
       "      <th>LP_NonPrincipalRecoverypayments</th>\n",
       "      <th>PercentFunded</th>\n",
       "      <th>Recommendations</th>\n",
       "      <th>InvestmentFromFriendsCount</th>\n",
       "      <th>InvestmentFromFriendsAmount</th>\n",
       "      <th>Investors</th>\n",
       "    </tr>\n",
       "  </thead>\n",
       "  <tbody>\n",
       "    <tr>\n",
       "      <th>0</th>\n",
       "      <td>1021339766868145413AB3B</td>\n",
       "      <td>193129</td>\n",
       "      <td>2007-08-26 19:09:29.263000000</td>\n",
       "      <td>C</td>\n",
       "      <td>36</td>\n",
       "      <td>Completed</td>\n",
       "      <td>2009-08-14 00:00:00</td>\n",
       "      <td>0.16516</td>\n",
       "      <td>0.1580</td>\n",
       "      <td>0.1380</td>\n",
       "      <td>...</td>\n",
       "      <td>-133.18</td>\n",
       "      <td>0.0</td>\n",
       "      <td>0.0</td>\n",
       "      <td>0.0</td>\n",
       "      <td>0.0</td>\n",
       "      <td>1.0</td>\n",
       "      <td>0</td>\n",
       "      <td>0</td>\n",
       "      <td>0.0</td>\n",
       "      <td>258</td>\n",
       "    </tr>\n",
       "    <tr>\n",
       "      <th>1</th>\n",
       "      <td>10273602499503308B223C1</td>\n",
       "      <td>1209647</td>\n",
       "      <td>2014-02-27 08:28:07.900000000</td>\n",
       "      <td>NaN</td>\n",
       "      <td>36</td>\n",
       "      <td>Current</td>\n",
       "      <td>NaN</td>\n",
       "      <td>0.12016</td>\n",
       "      <td>0.0920</td>\n",
       "      <td>0.0820</td>\n",
       "      <td>...</td>\n",
       "      <td>0.00</td>\n",
       "      <td>0.0</td>\n",
       "      <td>0.0</td>\n",
       "      <td>0.0</td>\n",
       "      <td>0.0</td>\n",
       "      <td>1.0</td>\n",
       "      <td>0</td>\n",
       "      <td>0</td>\n",
       "      <td>0.0</td>\n",
       "      <td>1</td>\n",
       "    </tr>\n",
       "    <tr>\n",
       "      <th>2</th>\n",
       "      <td>0EE9337825851032864889A</td>\n",
       "      <td>81716</td>\n",
       "      <td>2007-01-05 15:00:47.090000000</td>\n",
       "      <td>HR</td>\n",
       "      <td>36</td>\n",
       "      <td>Completed</td>\n",
       "      <td>2009-12-17 00:00:00</td>\n",
       "      <td>0.28269</td>\n",
       "      <td>0.2750</td>\n",
       "      <td>0.2400</td>\n",
       "      <td>...</td>\n",
       "      <td>-24.20</td>\n",
       "      <td>0.0</td>\n",
       "      <td>0.0</td>\n",
       "      <td>0.0</td>\n",
       "      <td>0.0</td>\n",
       "      <td>1.0</td>\n",
       "      <td>0</td>\n",
       "      <td>0</td>\n",
       "      <td>0.0</td>\n",
       "      <td>41</td>\n",
       "    </tr>\n",
       "    <tr>\n",
       "      <th>3</th>\n",
       "      <td>0EF5356002482715299901A</td>\n",
       "      <td>658116</td>\n",
       "      <td>2012-10-22 11:02:35.010000000</td>\n",
       "      <td>NaN</td>\n",
       "      <td>36</td>\n",
       "      <td>Current</td>\n",
       "      <td>NaN</td>\n",
       "      <td>0.12528</td>\n",
       "      <td>0.0974</td>\n",
       "      <td>0.0874</td>\n",
       "      <td>...</td>\n",
       "      <td>-108.01</td>\n",
       "      <td>0.0</td>\n",
       "      <td>0.0</td>\n",
       "      <td>0.0</td>\n",
       "      <td>0.0</td>\n",
       "      <td>1.0</td>\n",
       "      <td>0</td>\n",
       "      <td>0</td>\n",
       "      <td>0.0</td>\n",
       "      <td>158</td>\n",
       "    </tr>\n",
       "    <tr>\n",
       "      <th>4</th>\n",
       "      <td>0F023589499656230C5E3E2</td>\n",
       "      <td>909464</td>\n",
       "      <td>2013-09-14 18:38:39.097000000</td>\n",
       "      <td>NaN</td>\n",
       "      <td>36</td>\n",
       "      <td>Current</td>\n",
       "      <td>NaN</td>\n",
       "      <td>0.24614</td>\n",
       "      <td>0.2085</td>\n",
       "      <td>0.1985</td>\n",
       "      <td>...</td>\n",
       "      <td>-60.27</td>\n",
       "      <td>0.0</td>\n",
       "      <td>0.0</td>\n",
       "      <td>0.0</td>\n",
       "      <td>0.0</td>\n",
       "      <td>1.0</td>\n",
       "      <td>0</td>\n",
       "      <td>0</td>\n",
       "      <td>0.0</td>\n",
       "      <td>20</td>\n",
       "    </tr>\n",
       "    <tr>\n",
       "      <th>5</th>\n",
       "      <td>0F05359734824199381F61D</td>\n",
       "      <td>1074836</td>\n",
       "      <td>2013-12-14 08:26:37.093000000</td>\n",
       "      <td>NaN</td>\n",
       "      <td>60</td>\n",
       "      <td>Current</td>\n",
       "      <td>NaN</td>\n",
       "      <td>0.15425</td>\n",
       "      <td>0.1314</td>\n",
       "      <td>0.1214</td>\n",
       "      <td>...</td>\n",
       "      <td>-25.33</td>\n",
       "      <td>0.0</td>\n",
       "      <td>0.0</td>\n",
       "      <td>0.0</td>\n",
       "      <td>0.0</td>\n",
       "      <td>1.0</td>\n",
       "      <td>0</td>\n",
       "      <td>0</td>\n",
       "      <td>0.0</td>\n",
       "      <td>1</td>\n",
       "    </tr>\n",
       "    <tr>\n",
       "      <th>6</th>\n",
       "      <td>0F0A3576754255009D63151</td>\n",
       "      <td>750899</td>\n",
       "      <td>2013-04-12 09:52:56.147000000</td>\n",
       "      <td>NaN</td>\n",
       "      <td>36</td>\n",
       "      <td>Current</td>\n",
       "      <td>NaN</td>\n",
       "      <td>0.31032</td>\n",
       "      <td>0.2712</td>\n",
       "      <td>0.2612</td>\n",
       "      <td>...</td>\n",
       "      <td>-22.95</td>\n",
       "      <td>0.0</td>\n",
       "      <td>0.0</td>\n",
       "      <td>0.0</td>\n",
       "      <td>0.0</td>\n",
       "      <td>1.0</td>\n",
       "      <td>0</td>\n",
       "      <td>0</td>\n",
       "      <td>0.0</td>\n",
       "      <td>1</td>\n",
       "    </tr>\n",
       "    <tr>\n",
       "      <th>7</th>\n",
       "      <td>0F1035772717087366F9EA7</td>\n",
       "      <td>768193</td>\n",
       "      <td>2013-05-05 06:49:27.493000000</td>\n",
       "      <td>NaN</td>\n",
       "      <td>36</td>\n",
       "      <td>Current</td>\n",
       "      <td>NaN</td>\n",
       "      <td>0.23939</td>\n",
       "      <td>0.2019</td>\n",
       "      <td>0.1919</td>\n",
       "      <td>...</td>\n",
       "      <td>-69.21</td>\n",
       "      <td>0.0</td>\n",
       "      <td>0.0</td>\n",
       "      <td>0.0</td>\n",
       "      <td>0.0</td>\n",
       "      <td>1.0</td>\n",
       "      <td>0</td>\n",
       "      <td>0</td>\n",
       "      <td>0.0</td>\n",
       "      <td>1</td>\n",
       "    </tr>\n",
       "    <tr>\n",
       "      <th>8</th>\n",
       "      <td>0F043596202561788EA13D5</td>\n",
       "      <td>1023355</td>\n",
       "      <td>2013-12-02 10:43:39.117000000</td>\n",
       "      <td>NaN</td>\n",
       "      <td>36</td>\n",
       "      <td>Current</td>\n",
       "      <td>NaN</td>\n",
       "      <td>0.07620</td>\n",
       "      <td>0.0629</td>\n",
       "      <td>0.0529</td>\n",
       "      <td>...</td>\n",
       "      <td>-16.77</td>\n",
       "      <td>0.0</td>\n",
       "      <td>0.0</td>\n",
       "      <td>0.0</td>\n",
       "      <td>0.0</td>\n",
       "      <td>1.0</td>\n",
       "      <td>0</td>\n",
       "      <td>0</td>\n",
       "      <td>0.0</td>\n",
       "      <td>1</td>\n",
       "    </tr>\n",
       "    <tr>\n",
       "      <th>9</th>\n",
       "      <td>0F043596202561788EA13D5</td>\n",
       "      <td>1023355</td>\n",
       "      <td>2013-12-02 10:43:39.117000000</td>\n",
       "      <td>NaN</td>\n",
       "      <td>36</td>\n",
       "      <td>Current</td>\n",
       "      <td>NaN</td>\n",
       "      <td>0.07620</td>\n",
       "      <td>0.0629</td>\n",
       "      <td>0.0529</td>\n",
       "      <td>...</td>\n",
       "      <td>-16.77</td>\n",
       "      <td>0.0</td>\n",
       "      <td>0.0</td>\n",
       "      <td>0.0</td>\n",
       "      <td>0.0</td>\n",
       "      <td>1.0</td>\n",
       "      <td>0</td>\n",
       "      <td>0</td>\n",
       "      <td>0.0</td>\n",
       "      <td>1</td>\n",
       "    </tr>\n",
       "  </tbody>\n",
       "</table>\n",
       "<p>10 rows × 81 columns</p>\n",
       "</div>"
      ],
      "text/plain": [
       "                ListingKey  ListingNumber            ListingCreationDate  \\\n",
       "0  1021339766868145413AB3B         193129  2007-08-26 19:09:29.263000000   \n",
       "1  10273602499503308B223C1        1209647  2014-02-27 08:28:07.900000000   \n",
       "2  0EE9337825851032864889A          81716  2007-01-05 15:00:47.090000000   \n",
       "3  0EF5356002482715299901A         658116  2012-10-22 11:02:35.010000000   \n",
       "4  0F023589499656230C5E3E2         909464  2013-09-14 18:38:39.097000000   \n",
       "5  0F05359734824199381F61D        1074836  2013-12-14 08:26:37.093000000   \n",
       "6  0F0A3576754255009D63151         750899  2013-04-12 09:52:56.147000000   \n",
       "7  0F1035772717087366F9EA7         768193  2013-05-05 06:49:27.493000000   \n",
       "8  0F043596202561788EA13D5        1023355  2013-12-02 10:43:39.117000000   \n",
       "9  0F043596202561788EA13D5        1023355  2013-12-02 10:43:39.117000000   \n",
       "\n",
       "  CreditGrade  Term LoanStatus           ClosedDate  BorrowerAPR  \\\n",
       "0           C    36  Completed  2009-08-14 00:00:00      0.16516   \n",
       "1         NaN    36    Current                  NaN      0.12016   \n",
       "2          HR    36  Completed  2009-12-17 00:00:00      0.28269   \n",
       "3         NaN    36    Current                  NaN      0.12528   \n",
       "4         NaN    36    Current                  NaN      0.24614   \n",
       "5         NaN    60    Current                  NaN      0.15425   \n",
       "6         NaN    36    Current                  NaN      0.31032   \n",
       "7         NaN    36    Current                  NaN      0.23939   \n",
       "8         NaN    36    Current                  NaN      0.07620   \n",
       "9         NaN    36    Current                  NaN      0.07620   \n",
       "\n",
       "   BorrowerRate  LenderYield  ...  LP_ServiceFees  LP_CollectionFees  \\\n",
       "0        0.1580       0.1380  ...         -133.18                0.0   \n",
       "1        0.0920       0.0820  ...            0.00                0.0   \n",
       "2        0.2750       0.2400  ...          -24.20                0.0   \n",
       "3        0.0974       0.0874  ...         -108.01                0.0   \n",
       "4        0.2085       0.1985  ...          -60.27                0.0   \n",
       "5        0.1314       0.1214  ...          -25.33                0.0   \n",
       "6        0.2712       0.2612  ...          -22.95                0.0   \n",
       "7        0.2019       0.1919  ...          -69.21                0.0   \n",
       "8        0.0629       0.0529  ...          -16.77                0.0   \n",
       "9        0.0629       0.0529  ...          -16.77                0.0   \n",
       "\n",
       "   LP_GrossPrincipalLoss  LP_NetPrincipalLoss LP_NonPrincipalRecoverypayments  \\\n",
       "0                    0.0                  0.0                             0.0   \n",
       "1                    0.0                  0.0                             0.0   \n",
       "2                    0.0                  0.0                             0.0   \n",
       "3                    0.0                  0.0                             0.0   \n",
       "4                    0.0                  0.0                             0.0   \n",
       "5                    0.0                  0.0                             0.0   \n",
       "6                    0.0                  0.0                             0.0   \n",
       "7                    0.0                  0.0                             0.0   \n",
       "8                    0.0                  0.0                             0.0   \n",
       "9                    0.0                  0.0                             0.0   \n",
       "\n",
       "   PercentFunded  Recommendations InvestmentFromFriendsCount  \\\n",
       "0            1.0                0                          0   \n",
       "1            1.0                0                          0   \n",
       "2            1.0                0                          0   \n",
       "3            1.0                0                          0   \n",
       "4            1.0                0                          0   \n",
       "5            1.0                0                          0   \n",
       "6            1.0                0                          0   \n",
       "7            1.0                0                          0   \n",
       "8            1.0                0                          0   \n",
       "9            1.0                0                          0   \n",
       "\n",
       "  InvestmentFromFriendsAmount Investors  \n",
       "0                         0.0       258  \n",
       "1                         0.0         1  \n",
       "2                         0.0        41  \n",
       "3                         0.0       158  \n",
       "4                         0.0        20  \n",
       "5                         0.0         1  \n",
       "6                         0.0         1  \n",
       "7                         0.0         1  \n",
       "8                         0.0         1  \n",
       "9                         0.0         1  \n",
       "\n",
       "[10 rows x 81 columns]"
      ]
     },
     "execution_count": 2,
     "metadata": {},
     "output_type": "execute_result"
    }
   ],
   "source": [
    "prosper_raw_df = pd.read_csv(\"prosperLoanData.csv\")\n",
    "prosper_raw_df.head(10)"
   ]
  },
  {
   "cell_type": "code",
   "execution_count": 3,
   "metadata": {},
   "outputs": [
    {
     "name": "stdout",
     "output_type": "stream",
     "text": [
      "<class 'pandas.core.frame.DataFrame'>\n",
      "RangeIndex: 113937 entries, 0 to 113936\n",
      "Data columns (total 81 columns):\n",
      "ListingKey                             113937 non-null object\n",
      "ListingNumber                          113937 non-null int64\n",
      "ListingCreationDate                    113937 non-null object\n",
      "CreditGrade                            28953 non-null object\n",
      "Term                                   113937 non-null int64\n",
      "LoanStatus                             113937 non-null object\n",
      "ClosedDate                             55089 non-null object\n",
      "BorrowerAPR                            113912 non-null float64\n",
      "BorrowerRate                           113937 non-null float64\n",
      "LenderYield                            113937 non-null float64\n",
      "EstimatedEffectiveYield                84853 non-null float64\n",
      "EstimatedLoss                          84853 non-null float64\n",
      "EstimatedReturn                        84853 non-null float64\n",
      "ProsperRating (numeric)                84853 non-null float64\n",
      "ProsperRating (Alpha)                  84853 non-null object\n",
      "ProsperScore                           84853 non-null float64\n",
      "ListingCategory (numeric)              113937 non-null int64\n",
      "BorrowerState                          108422 non-null object\n",
      "Occupation                             110349 non-null object\n",
      "EmploymentStatus                       111682 non-null object\n",
      "EmploymentStatusDuration               106312 non-null float64\n",
      "IsBorrowerHomeowner                    113937 non-null bool\n",
      "CurrentlyInGroup                       113937 non-null bool\n",
      "GroupKey                               13341 non-null object\n",
      "DateCreditPulled                       113937 non-null object\n",
      "CreditScoreRangeLower                  113346 non-null float64\n",
      "CreditScoreRangeUpper                  113346 non-null float64\n",
      "FirstRecordedCreditLine                113240 non-null object\n",
      "CurrentCreditLines                     106333 non-null float64\n",
      "OpenCreditLines                        106333 non-null float64\n",
      "TotalCreditLinespast7years             113240 non-null float64\n",
      "OpenRevolvingAccounts                  113937 non-null int64\n",
      "OpenRevolvingMonthlyPayment            113937 non-null float64\n",
      "InquiriesLast6Months                   113240 non-null float64\n",
      "TotalInquiries                         112778 non-null float64\n",
      "CurrentDelinquencies                   113240 non-null float64\n",
      "AmountDelinquent                       106315 non-null float64\n",
      "DelinquenciesLast7Years                112947 non-null float64\n",
      "PublicRecordsLast10Years               113240 non-null float64\n",
      "PublicRecordsLast12Months              106333 non-null float64\n",
      "RevolvingCreditBalance                 106333 non-null float64\n",
      "BankcardUtilization                    106333 non-null float64\n",
      "AvailableBankcardCredit                106393 non-null float64\n",
      "TotalTrades                            106393 non-null float64\n",
      "TradesNeverDelinquent (percentage)     106393 non-null float64\n",
      "TradesOpenedLast6Months                106393 non-null float64\n",
      "DebtToIncomeRatio                      105383 non-null float64\n",
      "IncomeRange                            113937 non-null object\n",
      "IncomeVerifiable                       113937 non-null bool\n",
      "StatedMonthlyIncome                    113937 non-null float64\n",
      "LoanKey                                113937 non-null object\n",
      "TotalProsperLoans                      22085 non-null float64\n",
      "TotalProsperPaymentsBilled             22085 non-null float64\n",
      "OnTimeProsperPayments                  22085 non-null float64\n",
      "ProsperPaymentsLessThanOneMonthLate    22085 non-null float64\n",
      "ProsperPaymentsOneMonthPlusLate        22085 non-null float64\n",
      "ProsperPrincipalBorrowed               22085 non-null float64\n",
      "ProsperPrincipalOutstanding            22085 non-null float64\n",
      "ScorexChangeAtTimeOfListing            18928 non-null float64\n",
      "LoanCurrentDaysDelinquent              113937 non-null int64\n",
      "LoanFirstDefaultedCycleNumber          16952 non-null float64\n",
      "LoanMonthsSinceOrigination             113937 non-null int64\n",
      "LoanNumber                             113937 non-null int64\n",
      "LoanOriginalAmount                     113937 non-null int64\n",
      "LoanOriginationDate                    113937 non-null object\n",
      "LoanOriginationQuarter                 113937 non-null object\n",
      "MemberKey                              113937 non-null object\n",
      "MonthlyLoanPayment                     113937 non-null float64\n",
      "LP_CustomerPayments                    113937 non-null float64\n",
      "LP_CustomerPrincipalPayments           113937 non-null float64\n",
      "LP_InterestandFees                     113937 non-null float64\n",
      "LP_ServiceFees                         113937 non-null float64\n",
      "LP_CollectionFees                      113937 non-null float64\n",
      "LP_GrossPrincipalLoss                  113937 non-null float64\n",
      "LP_NetPrincipalLoss                    113937 non-null float64\n",
      "LP_NonPrincipalRecoverypayments        113937 non-null float64\n",
      "PercentFunded                          113937 non-null float64\n",
      "Recommendations                        113937 non-null int64\n",
      "InvestmentFromFriendsCount             113937 non-null int64\n",
      "InvestmentFromFriendsAmount            113937 non-null float64\n",
      "Investors                              113937 non-null int64\n",
      "dtypes: bool(3), float64(50), int64(11), object(17)\n",
      "memory usage: 68.1+ MB\n"
     ]
    }
   ],
   "source": [
    "prosper_raw_df.info()"
   ]
  },
  {
   "cell_type": "markdown",
   "metadata": {},
   "source": [
    "I checked the Variable Definitions of the columns, and found there is a difference in the fetures that being required \"before 2009\" and \"on and after 2009\".\n",
    "As I am intending to use \"ProsperRating\" and \"ProsperScore\" in my exploration, and they are only available for the after 2009 data I will remove all records that don't have them. (84853 / 113936 = 74.5%) of the records are kept."
   ]
  },
  {
   "cell_type": "code",
   "execution_count": 4,
   "metadata": {},
   "outputs": [],
   "source": [
    "prosper_raw_df.dropna(axis=0,subset=[\"ProsperScore\"],inplace = True)"
   ]
  },
  {
   "cell_type": "markdown",
   "metadata": {},
   "source": [
    "ListingKey, ListingNumber, LoanKey are all supposed to be unique identifier.\n",
    "If we check them out:"
   ]
  },
  {
   "cell_type": "code",
   "execution_count": 5,
   "metadata": {},
   "outputs": [
    {
     "data": {
      "text/plain": [
       "871"
      ]
     },
     "execution_count": 5,
     "metadata": {},
     "output_type": "execute_result"
    }
   ],
   "source": [
    "#If all records have a unique number we should get 0.\n",
    "# any other number indicate the number of repeated values\n",
    "len(prosper_raw_df) - prosper_raw_df.ListingKey.nunique()"
   ]
  },
  {
   "cell_type": "code",
   "execution_count": 6,
   "metadata": {},
   "outputs": [
    {
     "name": "stdout",
     "output_type": "stream",
     "text": [
      "True\n",
      "83982  of  84853  are unique\n"
     ]
    }
   ],
   "source": [
    "#if all three variables gave the same number of unique values then, then the repeated records are the same \n",
    "#for all of them\n",
    "print(prosper_raw_df.ListingKey.nunique() == prosper_raw_df.ListingNumber.nunique() == prosper_raw_df.LoanKey.nunique())\n",
    "print(prosper_raw_df.ListingKey.nunique(), \" of \", len(prosper_raw_df), \" are unique\")"
   ]
  },
  {
   "cell_type": "code",
   "execution_count": 7,
   "metadata": {},
   "outputs": [],
   "source": [
    "#droping the repeated records. I will keep the last record.\n",
    "prosper_raw_df.drop_duplicates(subset=[\"ListingKey\"], keep='last', inplace=True)"
   ]
  },
  {
   "cell_type": "code",
   "execution_count": 8,
   "metadata": {},
   "outputs": [
    {
     "data": {
      "text/plain": [
       "0"
      ]
     },
     "execution_count": 8,
     "metadata": {},
     "output_type": "execute_result"
    }
   ],
   "source": [
    "#check\n",
    "len(prosper_raw_df) - prosper_raw_df.ListingKey.nunique()"
   ]
  },
  {
   "cell_type": "markdown",
   "metadata": {},
   "source": [
    "### What is the structure of your dataset?\n",
    "\n",
    "> The data size is 113937 rows by 81 columns.\n",
    "I will not be exploring all the features as there are many of them. My exploration will be limited to 10 features, that at least have two categorical and two numeric features.\n",
    "\n",
    "> Explanation of the data in each column/varaible can be found [here (Google Sheet File)](https://docs.google.com/spreadsheets/d/1gDyi_L4UvIrLTEC6Wri5nbaMmkGmLQBk-Yx3z0XDEtI/edit#gid=0)\n",
    "\n",
    "\n",
    "### What is/are the main feature(s) of interest in your dataset?\n",
    "\n",
    "> Ii am interested in to know what features affect the \"loan status\". To predict which loans will be completed, defaulted, or cancelled. \n",
    "\n",
    "### What features in the dataset do you think will help support your investigation into your feature(s) of interest?\n",
    "\n",
    "> I will be looking on these features (ordered by appearance):\n",
    "> \n",
    ">1.  Term\n",
    "2.  LoanStatus\n",
    "3.  BorrowerAPR\n",
    "4.  ProsperRating (numeric)\n",
    "5.  ProsperRating (Alpha)\n",
    "6.  EmploymentStatus\n",
    "7.  EmploymentStatusDuration\n",
    "8.  IsBorrowerHomeowner\n",
    "9.  DebtToIncomeRatio\n",
    "10. IncomeRange\n",
    "11. LoanOriginalAmount\n",
    "\n",
    "> I didn't consider CreditScore or ProsperScore though they might be important because they are covered in the ProsperRating. According to their website [(link)](https://www.prosper.com/invest/how-to-invest/prosper-ratings/?mod=article_inline):\n",
    ">\"The estimated base loss rate is determined by two scores: (1) the borrower's credit score, obtained from an official credit reporting agency, and (2) the Prosper Score, figured in-house based on the Prosper population.\"\n",
    "> The base loss rate determines the the ProsperRating\n",
    "\n",
    "| Prosper Rating | Estimated Avg. Annual Loss Rate |\n",
    "|:--------------:|:---------------------------------:|\n",
    "| AA            | 0.00-1.99%                        |\n",
    "| A             | 2.00–3.99%                        |\n",
    "| B             | 4.00–5.99%                        |\n",
    "| C             | 6.00–8.99%                        |\n",
    "| D             | 9.00–11.99%                       |\n",
    "| E             | 12.00–14.99%                      |\n",
    "| HR            | ≥ 15.00%                          |\n"
   ]
  },
  {
   "cell_type": "code",
   "execution_count": 9,
   "metadata": {},
   "outputs": [],
   "source": [
    "# createing the dataframe with the features that will be use \n",
    "prosper_df = prosper_raw_df.loc[:,[\n",
    "    'LoanStatus',\n",
    "    'BorrowerAPR',\n",
    "    'ProsperRating (numeric)',\n",
    "    'ProsperRating (Alpha)',\n",
    "    'LoanOriginalAmount',\n",
    "    'Term',\n",
    "    'IsBorrowerHomeowner',\n",
    "    'EmploymentStatus',\n",
    "    'EmploymentStatusDuration',\n",
    "    'DebtToIncomeRatio',\n",
    "    'IncomeRange',\n",
    "]]"
   ]
  },
  {
   "cell_type": "code",
   "execution_count": 10,
   "metadata": {},
   "outputs": [],
   "source": [
    "prosper_df.rename(columns = {'ProsperRating (numeric)':'ProsperRatingNum','ProsperRating (Alpha)':'ProsperRating'},inplace=True)"
   ]
  },
  {
   "cell_type": "code",
   "execution_count": 11,
   "metadata": {},
   "outputs": [
    {
     "data": {
      "text/html": [
       "<div>\n",
       "<style scoped>\n",
       "    .dataframe tbody tr th:only-of-type {\n",
       "        vertical-align: middle;\n",
       "    }\n",
       "\n",
       "    .dataframe tbody tr th {\n",
       "        vertical-align: top;\n",
       "    }\n",
       "\n",
       "    .dataframe thead th {\n",
       "        text-align: right;\n",
       "    }\n",
       "</style>\n",
       "<table border=\"1\" class=\"dataframe\">\n",
       "  <thead>\n",
       "    <tr style=\"text-align: right;\">\n",
       "      <th></th>\n",
       "      <th>LoanStatus</th>\n",
       "      <th>BorrowerAPR</th>\n",
       "      <th>ProsperRatingNum</th>\n",
       "      <th>ProsperRating</th>\n",
       "      <th>LoanOriginalAmount</th>\n",
       "      <th>Term</th>\n",
       "      <th>IsBorrowerHomeowner</th>\n",
       "      <th>EmploymentStatus</th>\n",
       "      <th>EmploymentStatusDuration</th>\n",
       "      <th>DebtToIncomeRatio</th>\n",
       "      <th>IncomeRange</th>\n",
       "    </tr>\n",
       "  </thead>\n",
       "  <tbody>\n",
       "    <tr>\n",
       "      <th>1</th>\n",
       "      <td>Current</td>\n",
       "      <td>0.12016</td>\n",
       "      <td>6.0</td>\n",
       "      <td>A</td>\n",
       "      <td>10000</td>\n",
       "      <td>36</td>\n",
       "      <td>False</td>\n",
       "      <td>Employed</td>\n",
       "      <td>44.0</td>\n",
       "      <td>0.18</td>\n",
       "      <td>$50,000-74,999</td>\n",
       "    </tr>\n",
       "    <tr>\n",
       "      <th>3</th>\n",
       "      <td>Current</td>\n",
       "      <td>0.12528</td>\n",
       "      <td>6.0</td>\n",
       "      <td>A</td>\n",
       "      <td>10000</td>\n",
       "      <td>36</td>\n",
       "      <td>True</td>\n",
       "      <td>Employed</td>\n",
       "      <td>113.0</td>\n",
       "      <td>0.15</td>\n",
       "      <td>$25,000-49,999</td>\n",
       "    </tr>\n",
       "    <tr>\n",
       "      <th>4</th>\n",
       "      <td>Current</td>\n",
       "      <td>0.24614</td>\n",
       "      <td>3.0</td>\n",
       "      <td>D</td>\n",
       "      <td>15000</td>\n",
       "      <td>36</td>\n",
       "      <td>True</td>\n",
       "      <td>Employed</td>\n",
       "      <td>44.0</td>\n",
       "      <td>0.26</td>\n",
       "      <td>$100,000+</td>\n",
       "    </tr>\n",
       "    <tr>\n",
       "      <th>5</th>\n",
       "      <td>Current</td>\n",
       "      <td>0.15425</td>\n",
       "      <td>5.0</td>\n",
       "      <td>B</td>\n",
       "      <td>15000</td>\n",
       "      <td>60</td>\n",
       "      <td>True</td>\n",
       "      <td>Employed</td>\n",
       "      <td>82.0</td>\n",
       "      <td>0.36</td>\n",
       "      <td>$100,000+</td>\n",
       "    </tr>\n",
       "    <tr>\n",
       "      <th>6</th>\n",
       "      <td>Current</td>\n",
       "      <td>0.31032</td>\n",
       "      <td>2.0</td>\n",
       "      <td>E</td>\n",
       "      <td>3000</td>\n",
       "      <td>36</td>\n",
       "      <td>False</td>\n",
       "      <td>Employed</td>\n",
       "      <td>172.0</td>\n",
       "      <td>0.27</td>\n",
       "      <td>$25,000-49,999</td>\n",
       "    </tr>\n",
       "  </tbody>\n",
       "</table>\n",
       "</div>"
      ],
      "text/plain": [
       "  LoanStatus  BorrowerAPR  ProsperRatingNum ProsperRating  LoanOriginalAmount  \\\n",
       "1    Current      0.12016               6.0             A               10000   \n",
       "3    Current      0.12528               6.0             A               10000   \n",
       "4    Current      0.24614               3.0             D               15000   \n",
       "5    Current      0.15425               5.0             B               15000   \n",
       "6    Current      0.31032               2.0             E                3000   \n",
       "\n",
       "   Term  IsBorrowerHomeowner EmploymentStatus  EmploymentStatusDuration  \\\n",
       "1    36                False         Employed                      44.0   \n",
       "3    36                 True         Employed                     113.0   \n",
       "4    36                 True         Employed                      44.0   \n",
       "5    60                 True         Employed                      82.0   \n",
       "6    36                False         Employed                     172.0   \n",
       "\n",
       "   DebtToIncomeRatio     IncomeRange  \n",
       "1               0.18  $50,000-74,999  \n",
       "3               0.15  $25,000-49,999  \n",
       "4               0.26       $100,000+  \n",
       "5               0.36       $100,000+  \n",
       "6               0.27  $25,000-49,999  "
      ]
     },
     "execution_count": 11,
     "metadata": {},
     "output_type": "execute_result"
    }
   ],
   "source": [
    "prosper_df.head()"
   ]
  },
  {
   "cell_type": "code",
   "execution_count": 12,
   "metadata": {},
   "outputs": [
    {
     "name": "stdout",
     "output_type": "stream",
     "text": [
      "<class 'pandas.core.frame.DataFrame'>\n",
      "Int64Index: 83982 entries, 1 to 113936\n",
      "Data columns (total 11 columns):\n",
      "LoanStatus                  83982 non-null object\n",
      "BorrowerAPR                 83982 non-null float64\n",
      "ProsperRatingNum            83982 non-null float64\n",
      "ProsperRating               83982 non-null object\n",
      "LoanOriginalAmount          83982 non-null int64\n",
      "Term                        83982 non-null int64\n",
      "IsBorrowerHomeowner         83982 non-null bool\n",
      "EmploymentStatus            83982 non-null object\n",
      "EmploymentStatusDuration    83963 non-null float64\n",
      "DebtToIncomeRatio           76768 non-null float64\n",
      "IncomeRange                 83982 non-null object\n",
      "dtypes: bool(1), float64(4), int64(2), object(4)\n",
      "memory usage: 7.1+ MB\n"
     ]
    }
   ],
   "source": [
    "prosper_df.info()"
   ]
  },
  {
   "cell_type": "code",
   "execution_count": 13,
   "metadata": {},
   "outputs": [
    {
     "data": {
      "text/plain": [
       "$50,000-74,999    25326\n",
       "$25,000-49,999    23923\n",
       "$100,000+         15056\n",
       "$75,000-99,999    14362\n",
       "$1-24,999          4621\n",
       "Not employed        649\n",
       "$0                   45\n",
       "Name: IncomeRange, dtype: int64"
      ]
     },
     "execution_count": 13,
     "metadata": {},
     "output_type": "execute_result"
    }
   ],
   "source": [
    "prosper_df.IncomeRange.value_counts()"
   ]
  },
  {
   "cell_type": "code",
   "execution_count": 14,
   "metadata": {},
   "outputs": [],
   "source": [
    "prosper_df.IncomeRange.replace({\n",
    "    '$0':'undisclosed',\n",
    "    '$1-24,999':'$0-25k',\n",
    "    '$25,000-49,999':'$25-50k',\n",
    "    '$50,000-74,999':'$50-75k',\n",
    "    '$75,000-99,999':'$75-100k',\n",
    "    '$100,000+':'>$100k'\n",
    "}, inplace=True)"
   ]
  },
  {
   "cell_type": "code",
   "execution_count": 15,
   "metadata": {},
   "outputs": [
    {
     "data": {
      "text/plain": [
       "$50-75k         25326\n",
       "$25-50k         23923\n",
       ">$100k          15056\n",
       "$75-100k        14362\n",
       "$0-25k           4621\n",
       "Not employed      649\n",
       "undisclosed        45\n",
       "Name: IncomeRange, dtype: int64"
      ]
     },
     "execution_count": 15,
     "metadata": {},
     "output_type": "execute_result"
    }
   ],
   "source": [
    "prosper_df.IncomeRange.value_counts()"
   ]
  },
  {
   "cell_type": "code",
   "execution_count": 111,
   "metadata": {},
   "outputs": [],
   "source": [
    "IncomeRange_classes = ['Not employed','undisclosed','$0-25k','$25-50k','$50-75k','$75-100k','>$100k']\n",
    "IncomeRange_cat =  pd.api.types.CategoricalDtype(ordered=True, categories = IncomeRange_classes)\n",
    "prosper_df['IncomeRange'] = prosper_df['IncomeRange'].astype(IncomeRange_cat)"
   ]
  },
  {
   "cell_type": "code",
   "execution_count": 16,
   "metadata": {},
   "outputs": [
    {
     "data": {
      "text/plain": [
       "Current                   55730\n",
       "Completed                 19651\n",
       "Chargedoff                 5336\n",
       "Defaulted                  1005\n",
       "Past Due (1-15 days)        800\n",
       "Past Due (31-60 days)       361\n",
       "Past Due (61-90 days)       311\n",
       "Past Due (91-120 days)      304\n",
       "Past Due (16-30 days)       265\n",
       "FinalPaymentInProgress      203\n",
       "Past Due (>120 days)         16\n",
       "Name: LoanStatus, dtype: int64"
      ]
     },
     "execution_count": 16,
     "metadata": {},
     "output_type": "execute_result"
    }
   ],
   "source": [
    "prosper_df.LoanStatus.value_counts()"
   ]
  },
  {
   "cell_type": "markdown",
   "metadata": {},
   "source": [
    "As my main objective from this exploration is to predict the Loan Satus, will it Default or be completed I will need to rearrange the status as following:\n",
    "- Past Due: All past due incident will be grouped under this title\n",
    "- Defaulted: Under it will be Chargedoff and Defaulted\n",
    "- Completed: Under it will have Completed and FinalPaymentInProgress\n",
    "- To remove: Current as it doesn't help in my exploration.\n",
    "\n"
   ]
  },
  {
   "cell_type": "code",
   "execution_count": 17,
   "metadata": {},
   "outputs": [],
   "source": [
    "#removing records with \"Current\" LoanStatus\n",
    "filt = prosper_df['LoanStatus'] != 'Current' \n",
    "prosper_df = prosper_df[filt] "
   ]
  },
  {
   "cell_type": "code",
   "execution_count": 18,
   "metadata": {},
   "outputs": [],
   "source": [
    "prosper_df.replace(['Past Due (1-15 days)','Past Due (16-30 days)','Past Due (31-60 days)','Past Due (61-90 days)',\n",
    "                    'Past Due (91-120 days)','Past Due (>120 days)'],'PastDue',inplace=True)"
   ]
  },
  {
   "cell_type": "code",
   "execution_count": 19,
   "metadata": {},
   "outputs": [],
   "source": [
    "prosper_df.replace(['Chargedoff'],'Defaulted',inplace=True)"
   ]
  },
  {
   "cell_type": "code",
   "execution_count": 20,
   "metadata": {},
   "outputs": [],
   "source": [
    "prosper_df.replace(['FinalPaymentInProgress'],'Completed',inplace=True)"
   ]
  },
  {
   "cell_type": "code",
   "execution_count": 21,
   "metadata": {},
   "outputs": [
    {
     "data": {
      "text/plain": [
       "Completed    19854\n",
       "Defaulted     6341\n",
       "PastDue       2057\n",
       "Name: LoanStatus, dtype: int64"
      ]
     },
     "execution_count": 21,
     "metadata": {},
     "output_type": "execute_result"
    }
   ],
   "source": [
    "prosper_df.LoanStatus.value_counts()"
   ]
  },
  {
   "cell_type": "markdown",
   "metadata": {},
   "source": [
    "## Univariate Exploration\n",
    "\n",
    "> In this section, investigate distributions of individual variables. If\n",
    "you see unusual points or outliers, take a deeper look to clean things up\n",
    "and prepare yourself to look at relationships between variables."
   ]
  },
  {
   "cell_type": "code",
   "execution_count": 123,
   "metadata": {},
   "outputs": [],
   "source": [
    "# I will setup a function that will be used frequntly to show percentage\n",
    "# above countplots bars.\n",
    "\n",
    "def show_annot(col,df = prosper_df,displacement = -250, font_color='w' ):\n",
    "    '''\n",
    "    show percentage annotation above the bars on a countplot graph\n",
    "    col: column name\n",
    "\n",
    "    '''\n",
    "    # The code below is taken from Udacity.\n",
    "    # add annotations\n",
    "    n_points = df.shape[0]\n",
    "    cat_counts = df[col].value_counts()\n",
    "    locs, labels = plt.xticks() # get the current tick locations and labels\n",
    "\n",
    "    # loop through each pair of locations and labels\n",
    "    for loc, label in zip(locs, labels):\n",
    "\n",
    "        # get the text property for the label to get the correct count\n",
    "        count = cat_counts[label.get_text()]\n",
    "        pct_string = '{:0.1f}%'.format(100*count/n_points)\n",
    "\n",
    "        # print the annotation just below the top of the bar\n",
    "        plt.text(loc, count+displacement, pct_string, ha = 'center', color = font_color)   "
   ]
  },
  {
   "cell_type": "markdown",
   "metadata": {},
   "source": [
    "We will start at plotting the distribution, as a frequencey bars, for the main dependent varaible I am invetigating, Loan Status."
   ]
  },
  {
   "cell_type": "code",
   "execution_count": 130,
   "metadata": {},
   "outputs": [
    {
     "data": {
      "image/png": "[encoded data removed]",
      "text/plain": [
       "<Figure size 720x360 with 1 Axes>"
      ]
     },
     "metadata": {
      "needs_background": "light"
     },
     "output_type": "display_data"
    }
   ],
   "source": [
    "# create the plot\n",
    "plt.figure(figsize=(10,5))\n",
    "base_color = sb.color_palette()[0]\n",
    "sb.countplot(data = prosper_df, x = 'LoanStatus',color=base_color)\n",
    "\n",
    "show_annot('LoanStatus',displacement = -800)"
   ]
  },
  {
   "cell_type": "markdown",
   "metadata": {},
   "source": [
    "Most of the loans are Completed,\n",
    "Around quarter is Defaulted.\n",
    "I am treating PastDue as potential to default loans."
   ]
  },
  {
   "cell_type": "markdown",
   "metadata": {},
   "source": [
    "Next will check what I consider the most important dependent  varaible, though its effect will analyzed as part of this analysis, the **BorrowerAPR**.\n",
    "A histogram will be used."
   ]
  },
  {
   "cell_type": "code",
   "execution_count": 23,
   "metadata": {},
   "outputs": [
    {
     "data": {
      "text/plain": [
       "(array([0.000e+00, 0.000e+00, 5.700e+01, 6.870e+02, 8.170e+02, 1.119e+03,\n",
       "        1.745e+03, 9.770e+02, 1.727e+03, 1.185e+03, 1.601e+03, 1.852e+03,\n",
       "        1.871e+03, 1.582e+03, 3.046e+03, 2.008e+03, 1.374e+03, 5.292e+03,\n",
       "        6.550e+02, 5.830e+02, 7.300e+01, 1.000e+00]),\n",
       " array([0.  , 0.02, 0.04, 0.06, 0.08, 0.1 , 0.12, 0.14, 0.16, 0.18, 0.2 ,\n",
       "        0.22, 0.24, 0.26, 0.28, 0.3 , 0.32, 0.34, 0.36, 0.38, 0.4 , 0.42,\n",
       "        0.44]),\n",
       " <a list of 22 Patch objects>)"
      ]
     },
     "execution_count": 23,
     "metadata": {},
     "output_type": "execute_result"
    },
    {
     "data": {
      "image/png": "[encoded data removed]",
      "text/plain": [
       "<Figure size 720x360 with 1 Axes>"
      ]
     },
     "metadata": {
      "needs_background": "light"
     },
     "output_type": "display_data"
    }
   ],
   "source": [
    "plt.figure(figsize=(10,5))\n",
    "bin_edges = np.arange(0, prosper_df.BorrowerAPR.max()+0.02, 0.02)\n",
    "plt.hist(prosper_df.BorrowerAPR,bins=bin_edges)"
   ]
  },
  {
   "cell_type": "code",
   "execution_count": 24,
   "metadata": {},
   "outputs": [
    {
     "data": {
      "text/plain": [
       "(0.34, 0.36)"
      ]
     },
     "execution_count": 24,
     "metadata": {},
     "output_type": "execute_result"
    },
    {
     "data": {
      "image/png": "[encoded data removed]",
      "text/plain": [
       "<Figure size 720x360 with 1 Axes>"
      ]
     },
     "metadata": {
      "needs_background": "light"
     },
     "output_type": "display_data"
    }
   ],
   "source": [
    "plt.figure(figsize=(10,5))\n",
    "bin_edges = np.arange(0, prosper_df.BorrowerAPR.max()+0.005, 0.005)\n",
    "plt.hist(prosper_df.BorrowerAPR,bins=bin_edges)\n",
    "plt.xlim(0.34,0.36)"
   ]
  },
  {
   "cell_type": "markdown",
   "metadata": {},
   "source": [
    "Next will plot **Prosper Rating**.\n",
    "Will plot the standard aphapbital rating. Will redefine the column type as an oreder categoty, and will be arranged from worst (HR: High Risk) to the highest (AA the safest), this is to in same order as numbered proseper rating from 1 to 7."
   ]
  },
  {
   "cell_type": "code",
   "execution_count": 26,
   "metadata": {},
   "outputs": [],
   "source": [
    "#creating ordered categoty type for ProsperRating\n",
    "ProsperRating_classes = ['HR','E','D','C','B','A','AA']\n",
    "rating_alpha_classes =  pd.api.types.CategoricalDtype(ordered=True, categories = ProsperRating_classes)\n",
    "prosper_df['ProsperRating'] = prosper_df['ProsperRating'].astype(rating_alpha_classes)"
   ]
  },
  {
   "cell_type": "code",
   "execution_count": 132,
   "metadata": {},
   "outputs": [
    {
     "data": {
      "image/png": "[encoded data removed]",
      "text/plain": [
       "<Figure size 720x360 with 1 Axes>"
      ]
     },
     "metadata": {
      "needs_background": "light"
     },
     "output_type": "display_data"
    }
   ],
   "source": [
    "# create the plot\n",
    "plt.figure(figsize=(10,5))\n",
    "sb.countplot(data = prosper_df, x = 'ProsperRating',color=base_color)\n",
    "\n",
    "show_annot('ProsperRating', displacement = -250)"
   ]
  },
  {
   "cell_type": "markdown",
   "metadata": {},
   "source": [
    "All nearly arounf 15%m except for D and AA,"
   ]
  },
  {
   "cell_type": "markdown",
   "metadata": {},
   "source": [
    "**Loan Original Amount**"
   ]
  },
  {
   "cell_type": "code",
   "execution_count": 43,
   "metadata": {},
   "outputs": [
    {
     "data": {
      "image/png": "[encoded data removed]",
      "text/plain": [
       "<Figure size 1440x720 with 1 Axes>"
      ]
     },
     "metadata": {
      "needs_background": "light"
     },
     "output_type": "display_data"
    }
   ],
   "source": [
    "plt.figure(figsize=(20,10))\n",
    "\n",
    "bin_edges = np.arange(0, prosper_df.LoanOriginalAmount.max()+2000+.1, 2000)\n",
    "plt.hist(prosper_df.LoanOriginalAmount,bins=bin_edges)\n",
    "plt.xticks(np.arange(0, prosper_df.LoanOriginalAmount.max()+2000, 2000));\n",
    "\n"
   ]
  },
  {
   "cell_type": "code",
   "execution_count": 50,
   "metadata": {},
   "outputs": [
    {
     "data": {
      "text/plain": [
       "<matplotlib.axes._subplots.AxesSubplot at 0x2504963d470>"
      ]
     },
     "execution_count": 50,
     "metadata": {},
     "output_type": "execute_result"
    },
    {
     "data": {
      "image/png": "[encoded data removed]",
      "text/plain": [
       "<Figure size 216x432 with 1 Axes>"
      ]
     },
     "metadata": {
      "needs_background": "light"
     },
     "output_type": "display_data"
    }
   ],
   "source": [
    "plt.figure(figsize=(3,6))\n",
    "sb.boxplot(data = prosper_df, y = 'LoanOriginalAmount');"
   ]
  },
  {
   "cell_type": "markdown",
   "metadata": {},
   "source": [
    "### Term, IsBorrowerHomeowner, EmploymentStatus: Subplots\n",
    "\n",
    "Will look now at three variables and put them on subplots. The variables are: **Term, IsBorrowerHomeowner, EmploymentStatus**\n",
    "\n",
    "I know that Term and IsBorrowerHomeowner have limited categories.\n",
    "How ever there are several categories for EmploymentStatus."
   ]
  },
  {
   "cell_type": "code",
   "execution_count": 103,
   "metadata": {},
   "outputs": [
    {
     "data": {
      "text/plain": [
       "Employed         24970\n",
       "Self-employed     1451\n",
       "Other              923\n",
       "Not employed       401\n",
       "Retired            275\n",
       "Part-time          232\n",
       "Name: EmploymentStatus, dtype: int64"
      ]
     },
     "execution_count": 103,
     "metadata": {},
     "output_type": "execute_result"
    }
   ],
   "source": [
    "#Exporing EmploymentStatus categories\n",
    "prosper_df.EmploymentStatus.value_counts()"
   ]
  },
  {
   "cell_type": "markdown",
   "metadata": {},
   "source": [
    "I don't think there is a the difference between Full-Time and Employed. I will  assume they are the same and I will merge them together."
   ]
  },
  {
   "cell_type": "code",
   "execution_count": 105,
   "metadata": {},
   "outputs": [],
   "source": [
    "#Cahnging all Full-Time status to Employed status\n",
    "prosper_df.EmploymentStatus.replace('Full-time', 'Employed',inplace=True)"
   ]
  },
  {
   "cell_type": "code",
   "execution_count": 125,
   "metadata": {},
   "outputs": [
    {
     "data": {
      "text/plain": [
       "Text(0, 0.5, 'count')"
      ]
     },
     "execution_count": 125,
     "metadata": {},
     "output_type": "execute_result"
    },
    {
     "data": {
      "image/png": "[encoded data removed]",
      "text/plain": [
       "<Figure size 1440x720 with 4 Axes>"
      ]
     },
     "metadata": {
      "needs_background": "light"
     },
     "output_type": "display_data"
    }
   ],
   "source": [
    "plt.figure(figsize=(20,10))\n",
    "\n",
    "plt.subplot(2, 2, 1)\n",
    "sb.countplot(data = prosper_df, x = 'Term',color=base_color)\n",
    "plt.title('The length of the loan expressed in months.')\n",
    "plt.xlabel(\"months\")\n",
    "plt.ylabel(\"number of loans\")\n",
    "\n",
    "plt.subplot(2, 2, 2)\n",
    "home_owners = prosper_df['IsBorrowerHomeowner'].value_counts()\n",
    "plt.pie(home_owners, labels = ['Yes','No']);\n",
    "plt.title('Is Borrower Home Owner?')\n",
    "\n",
    "plt.subplot(2, 2, 3)\n",
    "sb.countplot(data = prosper_df, x = 'EmploymentStatus', color=base_color);\n",
    "plt.title('Employment Status')\n",
    "show_annot('EmploymentStatus',font_color='black',displacement=250)\n",
    "\n",
    "plt.subplot(2, 2, 4)\n",
    "sb.countplot(data = prosper_df, x = 'IncomeRange',color=base_color)\n",
    "plt.title('Frequency of Income Ranges')\n",
    "plt.xlabel(\"Income Range\")\n",
    "plt.ylabel(\"count\")"
   ]
  },
  {
   "cell_type": "markdown",
   "metadata": {},
   "source": [
    "**Term**\n",
    "Most of the borrows are going with 3 years loan, then with 5 years with big difference from 3 years. The 5 years in nearly the double of 1 year loans.\n",
    "\n",
    "**IsBorrowerHomeowner**\n",
    "The split between homeowners and non-homeowners in nearly the same, with homeowners slightly more.\n",
    "\n",
    "**Employment Status**\n",
    "As most of the borrowers are employed (88%), it doesn't seem that Employment status will be a useful indicator because not enough data present for the other type to draw conclusion."
   ]
  },
  {
   "cell_type": "markdown",
   "metadata": {},
   "source": [
    "## Employment Status Duration\n",
    "\n",
    "The duration is expressed in months. As there are thousands of values, I believe expressing them in years will be more useful and give a more clear picture."
   ]
  },
  {
   "cell_type": "code",
   "execution_count": 88,
   "metadata": {},
   "outputs": [],
   "source": [
    "# rounding up months to years\n",
    "prosper_df.EmploymentStatusDuration = np.ceil(prosper_df.EmploymentStatusDuration/12)"
   ]
  },
  {
   "cell_type": "code",
   "execution_count": 102,
   "metadata": {},
   "outputs": [
    {
     "data": {
      "image/png": "[encoded data removed]",
      "text/plain": [
       "<Figure size 540x1080 with 2 Axes>"
      ]
     },
     "metadata": {
      "needs_background": "light"
     },
     "output_type": "display_data"
    }
   ],
   "source": [
    "plt.figure(figsize=(7.5,15))\n",
    "plt.suptitle('Employment Status Duration')\n",
    "\n",
    "#Hitsogram\n",
    "plt.subplot(2,1,1)\n",
    "bin_edges = np.arange(0, prosper_df.EmploymentStatusDuration.max()+0.1, 1)\n",
    "plt.hist(prosper_df.EmploymentStatusDuration,bins=bin_edges)\n",
    "plt.xlabel(\"years\")\n",
    "plt.ylabel(\"count\")\n",
    "\n",
    "#Box Plot\n",
    "plt.subplot(2,1,2)\n",
    "sb.boxplot(data = prosper_df, y = 'EmploymentStatusDuration')\n",
    "plt.ylabel(\"years\");"
   ]
  },
  {
   "cell_type": "markdown",
   "metadata": {},
   "source": [
    "The distribution is a right skewed distribution. \n",
    "Most of the values are between 1 to 25 years, with 50% between 5-12.\n",
    "Extreme outliers values at 40 years and more."
   ]
  },
  {
   "cell_type": "markdown",
   "metadata": {},
   "source": [
    "## DebtToIncomeRatio"
   ]
  },
  {
   "cell_type": "code",
   "execution_count": 136,
   "metadata": {},
   "outputs": [
    {
     "data": {
      "text/plain": [
       "count    25056.000000\n",
       "mean         0.251897\n",
       "std          0.390738\n",
       "min          0.000000\n",
       "25%          0.130000\n",
       "50%          0.200000\n",
       "75%          0.300000\n",
       "max         10.010000\n",
       "Name: DebtToIncomeRatio, dtype: float64"
      ]
     },
     "execution_count": 136,
     "metadata": {},
     "output_type": "execute_result"
    }
   ],
   "source": [
    "prosper_df.DebtToIncomeRatio.describe()"
   ]
  },
  {
   "cell_type": "code",
   "execution_count": 155,
   "metadata": {},
   "outputs": [
    {
     "data": {
      "image/png": "[encoded data removed]",
      "text/plain": [
       "<Figure size 360x720 with 1 Axes>"
      ]
     },
     "metadata": {
      "needs_background": "light"
     },
     "output_type": "display_data"
    }
   ],
   "source": [
    "plt.figure(figsize=(5,10))\n",
    "\n",
    "#Hitsogram\n",
    "bin_edges = np.arange(0, prosper_df.DebtToIncomeRatio.max()+0.1, 0.1)\n",
    "plt.hist(prosper_df.DebtToIncomeRatio,bins=bin_edges)\n",
    "plt.xlabel(\"ratios\")\n",
    "plt.ylabel(\"count\")\n",
    "plt.xlim(0,1) #values after 1 are outliers\n",
    "plt.xticks(np.arange(0,1+0.1,0.1));"
   ]
  },
  {
   "cell_type": "code",
   "execution_count": 25,
   "metadata": {},
   "outputs": [
    {
     "name": "stdout",
     "output_type": "stream",
     "text": [
      "<class 'pandas.core.frame.DataFrame'>\n",
      "Int64Index: 28252 entries, 12 to 113935\n",
      "Data columns (total 11 columns):\n",
      "LoanStatus                  28252 non-null object\n",
      "BorrowerAPR                 28252 non-null float64\n",
      "ProsperRatingNum            28252 non-null float64\n",
      "ProsperRating               28252 non-null object\n",
      "LoanOriginalAmount          28252 non-null int64\n",
      "Term                        28252 non-null int64\n",
      "IsBorrowerHomeowner         28252 non-null bool\n",
      "EmploymentStatus            28252 non-null object\n",
      "EmploymentStatusDuration    28243 non-null float64\n",
      "DebtToIncomeRatio           25056 non-null float64\n",
      "IncomeRange                 28252 non-null object\n",
      "dtypes: bool(1), float64(4), int64(2), object(4)\n",
      "memory usage: 3.6+ MB\n"
     ]
    }
   ],
   "source": [
    "prosper_df.info()"
   ]
  },
  {
   "cell_type": "markdown",
   "metadata": {},
   "source": [
    "> Make sure that, after every plot or related series of plots, that you\n",
    "include a Markdown cell with comments about what you observed, and what\n",
    "you plan on investigating next."
   ]
  },
  {
   "cell_type": "markdown",
   "metadata": {},
   "source": [
    "### Discuss the distribution(s) of your variable(s) of interest. Were there any unusual points? Did you need to perform any transformations?\n",
    "\n",
    "> Your answer here!\n",
    "\n",
    "### Of the features you investigated, were there any unusual distributions? Did you perform any operations on the data to tidy, adjust, or change the form of the data? If so, why did you do this?\n",
    "\n",
    "> Your answer here!"
   ]
  },
  {
   "cell_type": "markdown",
   "metadata": {},
   "source": [
    "## Bivariate Exploration\n",
    "\n",
    "> In this section, investigate relationships between pairs of variables in your\n",
    "data. Make sure the variables that you cover here have been introduced in some\n",
    "fashion in the previous section (univariate exploration)."
   ]
  },
  {
   "cell_type": "code",
   "execution_count": null,
   "metadata": {},
   "outputs": [],
   "source": []
  },
  {
   "cell_type": "markdown",
   "metadata": {},
   "source": [
    "### Talk about some of the relationships you observed in this part of the investigation. How did the feature(s) of interest vary with other features in the dataset?\n",
    "\n",
    "> Your answer here!\n",
    "\n",
    "### Did you observe any interesting relationships between the other features (not the main feature(s) of interest)?\n",
    "\n",
    "> Your answer here!"
   ]
  },
  {
   "cell_type": "markdown",
   "metadata": {},
   "source": [
    "## Multivariate Exploration\n",
    "\n",
    "> Create plots of three or more variables to investigate your data even\n",
    "further. Make sure that your investigations are justified, and follow from\n",
    "your work in the previous sections."
   ]
  },
  {
   "cell_type": "code",
   "execution_count": null,
   "metadata": {},
   "outputs": [],
   "source": []
  },
  {
   "cell_type": "markdown",
   "metadata": {},
   "source": [
    "### Talk about some of the relationships you observed in this part of the investigation. Were there features that strengthened each other in terms of looking at your feature(s) of interest?\n",
    "\n",
    "> Your answer here!\n",
    "\n",
    "### Were there any interesting or surprising interactions between features?\n",
    "\n",
    "> Your answer here!"
   ]
  },
  {
   "cell_type": "markdown",
   "metadata": {},
   "source": [
    "> At the end of your report, make sure that you export the notebook as an\n",
    "html file from the `File > Download as... > HTML` menu. Make sure you keep\n",
    "track of where the exported file goes, so you can put it in the same folder\n",
    "as this notebook for project submission. Also, make sure you remove all of\n",
    "the quote-formatted guide notes like this one before you finish your report!"
   ]
  },
  {
   "cell_type": "code",
   "execution_count": null,
   "metadata": {},
   "outputs": [],
   "source": []
  }
 ],
 "metadata": {
  "kernelspec": {
   "display_name": "Python 3",
   "language": "python",
   "name": "python3"
  },
  "language_info": {
   "codemirror_mode": {
    "name": "ipython",
    "version": 3
   },
   "file_extension": ".py",
   "mimetype": "text/x-python",
   "name": "python",
   "nbconvert_exporter": "python",
   "pygments_lexer": "ipython3",
   "version": "3.7.3"
  }
 },
 "nbformat": 4,
 "nbformat_minor": 2
}
